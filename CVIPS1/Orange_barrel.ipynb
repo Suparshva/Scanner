{
 "cells": [
  {
   "cell_type": "code",
   "execution_count": 1,
   "metadata": {},
   "outputs": [],
   "source": [
    "import cv2\n",
    "import numpy as np"
   ]
  },
  {
   "cell_type": "code",
   "execution_count": 2,
   "metadata": {},
   "outputs": [],
   "source": [
    "capt = cv2.VideoCapture('orange.mp4')\n",
    "\n",
    "\n",
    "\n"
   ]
  },
  {
   "cell_type": "code",
   "execution_count": 5,
   "metadata": {},
   "outputs": [],
   "source": [
    "while(capt.isOpened()):\n",
    "    ret, img = capt.read()\n",
    "    if ret == True:\n",
    "        \n",
    "        ORANGE_MIN = np.array([5, 50, 50],np.uint8)\n",
    "        ORANGE_MAX = np.array([15, 255, 255],np.uint8)\n",
    "        green_max=np.array([50,255,255],np.uint8)\n",
    "        green_min=np.array([0,50,50],np.uint8)\n",
    "        blur=cv2.GaussianBlur(img,(5,5),0)\n",
    "\n",
    "        hsv_img = cv2.cvtColor(blur,cv2.COLOR_BGR2HSV)\n",
    "\n",
    "        frame_threshed = cv2.inRange(hsv_img, ORANGE_MIN, ORANGE_MAX)\n",
    "        frame_threshed2 = cv2.inRange(hsv_img, green_min, green_max)\n",
    "        frame_threshed2=255-frame_threshed2\n",
    "        mask_final=cv2.add(frame_threshed2,frame_threshed)\n",
    "        output = cv2.bitwise_and(img, img, mask = mask_final)\n",
    "\n",
    "\n",
    "\n",
    "\n",
    "    \n",
    "        cv2.namedWindow('video',cv2.WINDOW_NORMAL)\n",
    "        cv2.imshow('video',output)            \n",
    "        if cv2.waitKey(1) & 0xFF == ord('q'):\n",
    "            break\n",
    "            \n",
    "    else: \n",
    "        break\n",
    "capt.release()\n",
    "cv2.destroyAllWindows()\n",
    "    \n",
    "    "
   ]
  },
  {
   "cell_type": "code",
   "execution_count": null,
   "metadata": {},
   "outputs": [],
   "source": []
  }
 ],
 "metadata": {
  "kernelspec": {
   "display_name": "Python 2",
   "language": "python",
   "name": "python2"
  },
  "language_info": {
   "codemirror_mode": {
    "name": "ipython",
    "version": 2
   },
   "file_extension": ".py",
   "mimetype": "text/x-python",
   "name": "python",
   "nbconvert_exporter": "python",
   "pygments_lexer": "ipython2",
   "version": "2.7.14"
  }
 },
 "nbformat": 4,
 "nbformat_minor": 2
}
